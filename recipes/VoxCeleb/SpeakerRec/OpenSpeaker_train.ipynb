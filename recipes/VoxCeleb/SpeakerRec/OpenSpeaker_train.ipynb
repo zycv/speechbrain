{
  "cells": [
    {
      "cell_type": "markdown",
      "metadata": {
        "colab_type": "text",
        "id": "view-in-github"
      },
      "source": [
        "<a href=\"https://colab.research.google.com/github/zycv/speechbrain/blob/OpenSpeaker/recipes/VoxCeleb/SpeakerRec/OpenSpeaker_train.ipynb\" target=\"_parent\"><img src=\"https://colab.research.google.com/assets/colab-badge.svg\" alt=\"Open In Colab\"/></a>"
      ]
    },
    {
      "cell_type": "code",
      "execution_count": 1,
      "metadata": {
        "colab": {
          "base_uri": "https://localhost:8080/"
        },
        "id": "XnK4wI3ezW3W",
        "outputId": "f835aa15-ab6b-4d54-9294-85750e4a46d1"
      },
      "outputs": [
        {
          "name": "stdout",
          "output_type": "stream",
          "text": [
            "Sun Oct 24 01:55:47 2021       \n",
            "+-----------------------------------------------------------------------------+\n",
            "| NVIDIA-SMI 470.74       Driver Version: 460.32.03    CUDA Version: 11.2     |\n",
            "|-------------------------------+----------------------+----------------------+\n",
            "| GPU  Name        Persistence-M| Bus-Id        Disp.A | Volatile Uncorr. ECC |\n",
            "| Fan  Temp  Perf  Pwr:Usage/Cap|         Memory-Usage | GPU-Util  Compute M. |\n",
            "|                               |                      |               MIG M. |\n",
            "|===============================+======================+======================|\n",
            "|   0  Tesla K80           Off  | 00000000:00:04.0 Off |                    0 |\n",
            "| N/A   47C    P8    30W / 149W |      0MiB / 11441MiB |      0%      Default |\n",
            "|                               |                      |                  N/A |\n",
            "+-------------------------------+----------------------+----------------------+\n",
            "                                                                               \n",
            "+-----------------------------------------------------------------------------+\n",
            "| Processes:                                                                  |\n",
            "|  GPU   GI   CI        PID   Type   Process name                  GPU Memory |\n",
            "|        ID   ID                                                   Usage      |\n",
            "|=============================================================================|\n",
            "|  No running processes found                                                 |\n",
            "+-----------------------------------------------------------------------------+\n"
          ]
        }
      ],
      "source": [
        "!nvidia-smi"
      ]
    },
    {
      "cell_type": "markdown",
      "metadata": {
        "id": "bb7MB3YQA8RC"
      },
      "source": [
        "# 挂载Google Drive\n",
        "便于保存训练的中间结果，方便下次从中断位置继续训练"
      ]
    },
    {
      "cell_type": "code",
      "execution_count": null,
      "metadata": {
        "id": "igS7VumXAbev"
      },
      "outputs": [],
      "source": [
        "from google.colab import drive\n",
        "drive.mount('/content/drive')"
      ]
    },
    {
      "cell_type": "markdown",
      "metadata": {
        "id": "l_YT63Db_kxk"
      },
      "source": [
        "# 获取数据\n",
        "\n",
        "全部的Vox数据，已共享在GoogleDrive，可以直接转存：[Voxceleb](https://drive.google.com/drive/folders/1_jtpwOZo4Zu4Agazt8Lj4OTJFFKmEeL_?usp=sharing)\n",
        "\n",
        "如果只在Colab中训练，可以只下载[Vox1_small](https://drive.google.com/drive/folders/1MIQvtRALwqsTQaB6ewGqyvtM4il4r35W?usp=sharing)，如下代码所示\n",
        "\n",
        "通过执行下面的代码，可以直接在根目录创建data文件夹，并下载解压Vox1_small的数据。"
      ]
    },
    {
      "cell_type": "code",
      "execution_count": null,
      "metadata": {
        "id": "Q9BwKno9wWe2"
      },
      "outputs": [],
      "source": [
        "!mkdir data\n",
        "%cd /content/data\n",
        "!wget --load-cookies /tmp/cookies.txt \"https://docs.google.com/uc?export=download&confirm=$(wget --quiet --save-cookies /tmp/cookies.txt --keep-session-cookies --no-check-certificate 'https://docs.google.com/uc?export=download&id=1VVfuVd_N2SIBwdtNqHRWLdhIcRpSJjAN' -O- | sed -rn 's/.*confirm=([0-9A-Za-z_]+).*/\\1\\n/p')&id=1VVfuVd_N2SIBwdtNqHRWLdhIcRpSJjAN\" -O vox1_small && rm -rf /tmp/cookies.txt\n",
        "!tar -xvzf vox1_small\n",
        "!mv speakers_500 wav"
      ]
    },
    {
      "cell_type": "markdown",
      "metadata": {
        "id": "mr4Pb5e2APLR"
      },
      "source": [
        "解压完后删除原始压缩包，腾出存储空间"
      ]
    },
    {
      "cell_type": "code",
      "execution_count": null,
      "metadata": {
        "id": "ZvGIHIbS-kGc"
      },
      "outputs": [],
      "source": [
        "!rm vox1_small"
      ]
    },
    {
      "cell_type": "markdown",
      "metadata": {
        "id": "do2cRF79AEYq"
      },
      "source": [
        "# 安装SpeechBrain\n",
        "\n",
        "以下代码下载最新的SpeechBrain代码并本地安装"
      ]
    },
    {
      "cell_type": "code",
      "execution_count": null,
      "metadata": {
        "colab": {
          "base_uri": "https://localhost:8080/"
        },
        "id": "htCkufYksv2T",
        "outputId": "fb48a877-f196-42ae-f21a-78b8c8423e1a"
      },
      "outputs": [
        {
          "name": "stdout",
          "output_type": "stream",
          "text": [
            "/content\n",
            "Cloning into 'speechbrain'...\n",
            "remote: Enumerating objects: 42354, done.\u001b[K\n",
            "remote: Counting objects: 100% (354/354), done.\u001b[K\n",
            "remote: Compressing objects: 100% (191/191), done.\u001b[K\n",
            "remote: Total 42354 (delta 187), reused 284 (delta 155), pack-reused 42000\u001b[K\n",
            "Receiving objects: 100% (42354/42354), 59.18 MiB | 22.75 MiB/s, done.\n",
            "Resolving deltas: 100% (27050/27050), done.\n",
            "/content/speechbrain\n",
            "Branch 'openspekaer' set up to track remote branch 'OpenSpeaker' from 'origin'.\n",
            "Switched to a new branch 'openspekaer'\n",
            "Obtaining file:///content/speechbrain\n",
            "  Installing build dependencies ... \u001b[?25l\u001b[?25hdone\n",
            "  Getting requirements to build wheel ... \u001b[?25l\u001b[?25hdone\n",
            "    Preparing wheel metadata ... \u001b[?25l\u001b[?25hdone\n",
            "Requirement already satisfied: scipy in /usr/local/lib/python3.7/dist-packages (from speechbrain==0.5.10) (1.4.1)\n",
            "Collecting huggingface-hub\n",
            "  Downloading huggingface_hub-0.0.19-py3-none-any.whl (56 kB)\n",
            "\u001b[K     |████████████████████████████████| 56 kB 2.3 MB/s \n",
            "\u001b[?25hCollecting torchaudio\n",
            "  Downloading torchaudio-0.10.0-cp37-cp37m-manylinux1_x86_64.whl (2.9 MB)\n",
            "\u001b[K     |████████████████████████████████| 2.9 MB 8.3 MB/s \n",
            "\u001b[?25hRequirement already satisfied: numpy in /usr/local/lib/python3.7/dist-packages (from speechbrain==0.5.10) (1.19.5)\n",
            "Requirement already satisfied: tqdm in /usr/local/lib/python3.7/dist-packages (from speechbrain==0.5.10) (4.62.3)\n",
            "Collecting hyperpyyaml\n",
            "  Downloading HyperPyYAML-1.0.0-py3-none-any.whl (15 kB)\n",
            "Requirement already satisfied: joblib in /usr/local/lib/python3.7/dist-packages (from speechbrain==0.5.10) (1.0.1)\n",
            "Requirement already satisfied: packaging in /usr/local/lib/python3.7/dist-packages (from speechbrain==0.5.10) (21.0)\n",
            "Collecting sentencepiece\n",
            "  Downloading sentencepiece-0.1.96-cp37-cp37m-manylinux_2_17_x86_64.manylinux2014_x86_64.whl (1.2 MB)\n",
            "\u001b[K     |████████████████████████████████| 1.2 MB 37.0 MB/s \n",
            "\u001b[?25hRequirement already satisfied: torch in /usr/local/lib/python3.7/dist-packages (from speechbrain==0.5.10) (1.9.0+cu111)\n",
            "Requirement already satisfied: pyyaml in /usr/local/lib/python3.7/dist-packages (from huggingface-hub->speechbrain==0.5.10) (3.13)\n",
            "Requirement already satisfied: requests in /usr/local/lib/python3.7/dist-packages (from huggingface-hub->speechbrain==0.5.10) (2.23.0)\n",
            "Requirement already satisfied: typing-extensions in /usr/local/lib/python3.7/dist-packages (from huggingface-hub->speechbrain==0.5.10) (3.7.4.3)\n",
            "Requirement already satisfied: filelock in /usr/local/lib/python3.7/dist-packages (from huggingface-hub->speechbrain==0.5.10) (3.3.0)\n",
            "Requirement already satisfied: importlib-metadata in /usr/local/lib/python3.7/dist-packages (from huggingface-hub->speechbrain==0.5.10) (4.8.1)\n",
            "Requirement already satisfied: pyparsing>=2.0.2 in /usr/local/lib/python3.7/dist-packages (from packaging->speechbrain==0.5.10) (2.4.7)\n",
            "Collecting pyyaml\n",
            "  Downloading PyYAML-6.0-cp37-cp37m-manylinux_2_5_x86_64.manylinux1_x86_64.manylinux_2_12_x86_64.manylinux2010_x86_64.whl (596 kB)\n",
            "\u001b[K     |████████████████████████████████| 596 kB 36.6 MB/s \n",
            "\u001b[?25hCollecting ruamel.yaml>=0.15\n",
            "  Downloading ruamel.yaml-0.17.16-py3-none-any.whl (109 kB)\n",
            "\u001b[K     |████████████████████████████████| 109 kB 56.5 MB/s \n",
            "\u001b[?25hCollecting ruamel.yaml.clib>=0.1.2\n",
            "  Downloading ruamel.yaml.clib-0.2.6-cp37-cp37m-manylinux1_x86_64.whl (546 kB)\n",
            "\u001b[K     |████████████████████████████████| 546 kB 46.4 MB/s \n",
            "\u001b[?25hRequirement already satisfied: zipp>=0.5 in /usr/local/lib/python3.7/dist-packages (from importlib-metadata->huggingface-hub->speechbrain==0.5.10) (3.6.0)\n",
            "Requirement already satisfied: chardet<4,>=3.0.2 in /usr/local/lib/python3.7/dist-packages (from requests->huggingface-hub->speechbrain==0.5.10) (3.0.4)\n",
            "Requirement already satisfied: urllib3!=1.25.0,!=1.25.1,<1.26,>=1.21.1 in /usr/local/lib/python3.7/dist-packages (from requests->huggingface-hub->speechbrain==0.5.10) (1.24.3)\n",
            "Requirement already satisfied: idna<3,>=2.5 in /usr/local/lib/python3.7/dist-packages (from requests->huggingface-hub->speechbrain==0.5.10) (2.10)\n",
            "Requirement already satisfied: certifi>=2017.4.17 in /usr/local/lib/python3.7/dist-packages (from requests->huggingface-hub->speechbrain==0.5.10) (2021.5.30)\n",
            "Collecting torch\n",
            "  Downloading torch-1.10.0-cp37-cp37m-manylinux1_x86_64.whl (881.9 MB)\n",
            "\u001b[K     |██████████████████████████████▎ | 834.1 MB 1.3 MB/s eta 0:00:39tcmalloc: large alloc 1147494400 bytes == 0x559ca2e54000 @  0x7f66b775d615 0x559c6a3174cc 0x559c6a3f747a 0x559c6a31a2ed 0x559c6a40be1d 0x559c6a38de99 0x559c6a3889ee 0x559c6a31bbda 0x559c6a38dd00 0x559c6a3889ee 0x559c6a31bbda 0x559c6a38a737 0x559c6a40cc66 0x559c6a389daf 0x559c6a40cc66 0x559c6a389daf 0x559c6a40cc66 0x559c6a389daf 0x559c6a31c039 0x559c6a35f409 0x559c6a31ac52 0x559c6a38dc25 0x559c6a3889ee 0x559c6a31bbda 0x559c6a38a737 0x559c6a3889ee 0x559c6a31bbda 0x559c6a389915 0x559c6a31bafa 0x559c6a389c0d 0x559c6a3889ee\n",
            "\u001b[K     |████████████████████████████████| 881.9 MB 18 kB/s \n",
            "\u001b[?25hInstalling collected packages: ruamel.yaml.clib, torch, ruamel.yaml, pyyaml, torchaudio, sentencepiece, hyperpyyaml, huggingface-hub, speechbrain\n",
            "  Attempting uninstall: torch\n",
            "    Found existing installation: torch 1.9.0+cu111\n",
            "    Uninstalling torch-1.9.0+cu111:\n",
            "      Successfully uninstalled torch-1.9.0+cu111\n",
            "  Attempting uninstall: pyyaml\n",
            "    Found existing installation: PyYAML 3.13\n",
            "    Uninstalling PyYAML-3.13:\n",
            "      Successfully uninstalled PyYAML-3.13\n",
            "  Running setup.py develop for speechbrain\n",
            "\u001b[31mERROR: pip's dependency resolver does not currently take into account all the packages that are installed. This behaviour is the source of the following dependency conflicts.\n",
            "torchvision 0.10.0+cu111 requires torch==1.9.0, but you have torch 1.10.0 which is incompatible.\n",
            "torchtext 0.10.0 requires torch==1.9.0, but you have torch 1.10.0 which is incompatible.\u001b[0m\n",
            "Successfully installed huggingface-hub-0.0.19 hyperpyyaml-1.0.0 pyyaml-6.0 ruamel.yaml-0.17.16 ruamel.yaml.clib-0.2.6 sentencepiece-0.1.96 speechbrain-0.5.10 torch-1.10.0 torchaudio-0.10.0\n"
          ]
        }
      ],
      "source": [
        "%cd /content/\n",
        "!git clone https://github.com/zycv/speechbrain.git\n",
        "%cd speechbrain\n",
        "!git checkout -b openspekaer origin/OpenSpeaker\n",
        "!pip install -e . "
      ]
    },
    {
      "cell_type": "markdown",
      "metadata": {
        "id": "yBS7BwfuASfV"
      },
      "source": [
        "# 训练\n",
        "以下代码采用下载好的500个说话人数据训练X-Vector模型，并将训练结果存储再Google Drive，如果当前目录有之前的CheckPoint，本次可接着继续训练"
      ]
    },
    {
      "cell_type": "code",
      "execution_count": null,
      "metadata": {
        "colab": {
          "base_uri": "https://localhost:8080/"
        },
        "id": "Juo706h_tx22",
        "outputId": "e4d4c75c-de36-42cc-d95f-3642dac0545b"
      },
      "outputs": [
        {
          "name": "stdout",
          "output_type": "stream",
          "text": [
            "/content/speechbrain/recipes/VoxCeleb/SpeakerRec\n",
            "Downloading http://www.openslr.org/resources/28/rirs_noises.zip to /content/data/rirs_noises.zip\n",
            "rirs_noises.zip: 1.31GB [02:01, 10.7MB/s]                \n",
            "Extracting /content/data/rirs_noises.zip to /content/data\n",
            "/content/data/rirs_noises.zip exists. Skipping download\n",
            "/content/data/rirs_noises.zip exists. Skipping download\n",
            "Downloading https://www.robots.ox.ac.uk/~vgg/data/voxceleb/meta/veri_test2.txt to results/xvect_augment/1986/save/veri_test2.txt\n",
            "veri_test2.txt: 2.33MB [00:04, 578kB/s]                 \n",
            "Getting file list...\n",
            "100% 53280/53280 [06:35<00:00, 134.87it/s]\n",
            "100% 5920/5920 [00:42<00:00, 138.01it/s]\n",
            "speechbrain.core - Beginning experiment!\n",
            "speechbrain.core - Experiment folder: results/xvect_augment/1986\n",
            "speechbrain.core - Info: ckpt_interval_minutes arg from hparam file is used\n",
            "speechbrain.core - 4.7M trainable parameters in SpeakerBrain\n",
            "speechbrain.utils.checkpoints - Would load a checkpoint here, but none found yet.\n",
            "speechbrain.utils.epoch_loop - Going into epoch 1\n",
            " 68% 1251/1829 [59:59<27:33,  2.86s/it, train_loss=3.75]"
          ]
        }
      ],
      "source": [
        "%cd /content/speechbrain/recipes/VoxCeleb/SpeakerRec\n",
        "!python train_speaker_embeddings.py hparams/train_x_vectors.yaml \\\n",
        "--data_folder /content/data \\\n",
        "--rir_folder /content/data \\\n",
        "--output_folder /content/drive/OpenSpeaker/train_results \\\n",
        "--batch_size 64 \\\n",
        "--out_n_neurons 500 "
      ]
    }
  ],
  "metadata": {
    "accelerator": "GPU",
    "colab": {
      "collapsed_sections": [],
      "include_colab_link": true,
      "name": "OpenSpeaker_train.ipynb",
      "provenance": []
    },
    "kernelspec": {
      "display_name": "Python 3",
      "name": "python3"
    },
    "language_info": {
      "name": "python"
    }
  },
  "nbformat": 4,
  "nbformat_minor": 0
}
